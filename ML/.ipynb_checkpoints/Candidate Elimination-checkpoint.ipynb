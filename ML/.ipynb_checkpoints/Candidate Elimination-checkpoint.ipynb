{
 "cells": [
  {
   "cell_type": "markdown",
   "metadata": {},
   "source": [
    "# Candidate Elimination Algorithm\n",
    "\n",
    "---\n",
    "\n",
    "### Terms Used:  \n",
    "\n",
    "1. **Concept learning**: Concept learning is basically learning task of the machine (Learn by Train data)\n",
    "2. **General Hypothesis**: Not Specifying features to learn the machine.\n",
    "3. **G** = `{‘?’, ‘?’,’?’,’?’…}`: Number of attributes\n",
    "4. **Specific Hypothesis**: Specifying features to learn machine (Specific feature)\n",
    "5. **S**= `{‘pi’,’pi’,’pi’…}`: Number of pi depends on number of attributes.\n",
    "6. **Version Space**: It is intermediate of general hypothesis and Specific hypothesis. It not only just written one hypothesis but a set of all possible hypothesis based on training data-set.\n",
    "\n",
    "---\n",
    "\n",
    "### Algorithm:\n",
    "\n",
    "<code>\n",
    " Step1: Load Data set\n",
    " Step2: Initialize General Hypothesis  and Specific  Hypothesis.\n",
    " Step3: For each training example  \n",
    " Step4: If example is positive example  \n",
    "          if attribute_value == hypothesis_value:\n",
    "             Do nothing  \n",
    "          else:\n",
    "             replace attribute value with '?' (Basically generalizing it)\n",
    " Step5: If example is Negative example  \n",
    "          Make generalize hypothesis more specific.</code>\n",
    "          \n",
    "---"
   ]
  },
  {
   "cell_type": "code",
   "execution_count": 22,
   "metadata": {},
   "outputs": [],
   "source": [
    "#import usful packages\n",
    "\n",
    "import numpy as np\n",
    "import pandas as pd"
   ]
  },
  {
   "cell_type": "code",
   "execution_count": 23,
   "metadata": {},
   "outputs": [],
   "source": [
    "#read data set\n",
    "df = pd.read_csv('fs.csv')"
   ]
  },
  {
   "cell_type": "code",
   "execution_count": 24,
   "metadata": {},
   "outputs": [
    {
     "data": {
      "text/html": [
       "<div>\n",
       "<style scoped>\n",
       "    .dataframe tbody tr th:only-of-type {\n",
       "        vertical-align: middle;\n",
       "    }\n",
       "\n",
       "    .dataframe tbody tr th {\n",
       "        vertical-align: top;\n",
       "    }\n",
       "\n",
       "    .dataframe thead th {\n",
       "        text-align: right;\n",
       "    }\n",
       "</style>\n",
       "<table border=\"1\" class=\"dataframe\">\n",
       "  <thead>\n",
       "    <tr style=\"text-align: right;\">\n",
       "      <th></th>\n",
       "      <th>Color</th>\n",
       "      <th>Toughness</th>\n",
       "      <th>Fungus</th>\n",
       "      <th>Appearance</th>\n",
       "      <th>Poisonous</th>\n",
       "    </tr>\n",
       "  </thead>\n",
       "  <tbody>\n",
       "    <tr>\n",
       "      <th>0</th>\n",
       "      <td>Green</td>\n",
       "      <td>Hard</td>\n",
       "      <td>No</td>\n",
       "      <td>Wrinkled</td>\n",
       "      <td>Yes</td>\n",
       "    </tr>\n",
       "    <tr>\n",
       "      <th>1</th>\n",
       "      <td>Green</td>\n",
       "      <td>Hard</td>\n",
       "      <td>Yes</td>\n",
       "      <td>Smooth</td>\n",
       "      <td>No</td>\n",
       "    </tr>\n",
       "    <tr>\n",
       "      <th>2</th>\n",
       "      <td>Brown</td>\n",
       "      <td>Soft</td>\n",
       "      <td>No</td>\n",
       "      <td>Wrinkled</td>\n",
       "      <td>No</td>\n",
       "    </tr>\n",
       "    <tr>\n",
       "      <th>3</th>\n",
       "      <td>Orange</td>\n",
       "      <td>Hard</td>\n",
       "      <td>No</td>\n",
       "      <td>Wrinkled</td>\n",
       "      <td>Yes</td>\n",
       "    </tr>\n",
       "    <tr>\n",
       "      <th>4</th>\n",
       "      <td>Green</td>\n",
       "      <td>Hard</td>\n",
       "      <td>Yes</td>\n",
       "      <td>Wrinkled</td>\n",
       "      <td>Yes</td>\n",
       "    </tr>\n",
       "    <tr>\n",
       "      <th>5</th>\n",
       "      <td>Orange</td>\n",
       "      <td>Hard</td>\n",
       "      <td>No</td>\n",
       "      <td>Wrinkled</td>\n",
       "      <td>Yes</td>\n",
       "    </tr>\n",
       "  </tbody>\n",
       "</table>\n",
       "</div>"
      ],
      "text/plain": [
       "    Color Toughness Fungus Appearance Poisonous\n",
       "0   Green      Hard     No   Wrinkled       Yes\n",
       "1   Green      Hard    Yes     Smooth        No\n",
       "2   Brown      Soft     No   Wrinkled        No\n",
       "3  Orange      Hard     No   Wrinkled       Yes\n",
       "4   Green      Hard    Yes   Wrinkled       Yes\n",
       "5  Orange      Hard     No   Wrinkled       Yes"
      ]
     },
     "execution_count": 24,
     "metadata": {},
     "output_type": "execute_result"
    }
   ],
   "source": [
    "#preview dataset\n",
    "df"
   ]
  },
  {
   "cell_type": "code",
   "execution_count": 25,
   "metadata": {},
   "outputs": [],
   "source": [
    "#defining algorithm\n",
    "def candidate_elimination(con,tar):\n",
    "    for i,val in enumerate(tar):\n",
    "        if val == 'Yes':\n",
    "            specific_h = con[i].copy()\n",
    "            break\n",
    "    general_h = [[\"?\" for i in range(len(specific_h))] for i in range(len(specific_h))]\n",
    "    \n",
    "    for i, val in enumerate(con):\n",
    "        if tar[i] == \"Yes\":\n",
    "            for j in range(len(specific_h)): \n",
    "                if val[j]!= specific_h[j]:                    \n",
    "                    specific_h[j] ='?'                     \n",
    "                    general_h[j][j] ='?'\n",
    "                   \n",
    "        if tar[i] == \"No\":            \n",
    "            for j in range(len(specific_h)): \n",
    "                if val[j]!= specific_h[j]:                    \n",
    "                    general_h[j][j] = specific_h[j]                \n",
    "                else:                    \n",
    "                    general_h[j][j] = '?' \n",
    "    return specific_h,general_h\n",
    "    "
   ]
  },
  {
   "cell_type": "code",
   "execution_count": 26,
   "metadata": {},
   "outputs": [],
   "source": [
    "#run algorithm\n",
    "con = np.array(df)[:,:-1]\n",
    "tar = np.array(df)[:,-1]\n",
    "\n",
    "spe_h,gen_h = candidate_elimination(con,tar)\n",
    "\n"
   ]
  },
  {
   "cell_type": "code",
   "execution_count": 27,
   "metadata": {},
   "outputs": [
    {
     "data": {
      "text/plain": [
       "array(['?', 'Hard', '?', 'Wrinkled'], dtype=object)"
      ]
     },
     "execution_count": 27,
     "metadata": {},
     "output_type": "execute_result"
    }
   ],
   "source": [
    "#print specific_h\n",
    "spe_h"
   ]
  },
  {
   "cell_type": "code",
   "execution_count": 28,
   "metadata": {},
   "outputs": [
    {
     "data": {
      "text/plain": [
       "[['?', '?', '?', '?'],\n",
       " ['?', 'Hard', '?', '?'],\n",
       " ['?', '?', '?', '?'],\n",
       " ['?', '?', '?', '?']]"
      ]
     },
     "execution_count": 28,
     "metadata": {},
     "output_type": "execute_result"
    }
   ],
   "source": [
    "#print gen_h\n",
    "gen_h"
   ]
  },
  {
   "cell_type": "code",
   "execution_count": null,
   "metadata": {},
   "outputs": [],
   "source": []
  }
 ],
 "metadata": {
  "kernelspec": {
   "display_name": "Python 3",
   "language": "python",
   "name": "python3"
  },
  "language_info": {
   "codemirror_mode": {
    "name": "ipython",
    "version": 3
   },
   "file_extension": ".py",
   "mimetype": "text/x-python",
   "name": "python",
   "nbconvert_exporter": "python",
   "pygments_lexer": "ipython3",
   "version": "3.8.5"
  }
 },
 "nbformat": 4,
 "nbformat_minor": 4
}
